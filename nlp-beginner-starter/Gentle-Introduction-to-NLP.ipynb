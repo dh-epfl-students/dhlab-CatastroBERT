{
 "cells": [
  {
   "cell_type": "markdown",
   "metadata": {},
   "source": [
    "# Text Analysis (starter)\n",
    "                                            Nom Prenom\n",
    "                                            EPFL"
   ]
  },
  {
   "cell_type": "markdown",
   "metadata": {},
   "source": [
    "# 1. Introduction to Natural Language Processing (NLP)\n",
    "\n",
    "Welcome to this gentle introduction to Natural Language Processing (NLP)! In this Jupyter notebook, we'll dive into the fascinating world of NLP, learn its fundamentals, and take some initial steps to analyze and process text data.\n",
    "\n",
    "\n",
    "<figure>\n",
    "    <center>\n",
    "    <img src=\"images/classification.jpeg\" width=\"400\" height=\"600\">\n",
    "    <figcaption>Source: <a href=\"https://www.freecodecamp.org/news/chihuahua-or-muffin-my-search-for-the-best-computer-vision-api-cbda4d6b425d/\">Link</a></figcaption>\n",
    "    </center>\n",
    "</figure>\n",
    "\n",
    "___What is NLP?___\n",
    "\n",
    "Natural Language Processing, commonly referred to as NLP, is a branch of artificial intelligence that focuses on the interaction between computers and humans through natural language. The ultimate goal of NLP is to enable computers to understand, interpret, and generate human language in a manner that is both valuable and meaningful.\n",
    "\n",
    "___Why is NLP Important?___\n",
    "\n",
    "With the explosion of data in today's world, a significant chunk of this data is unstructured text. From emails and tweets to news articles and documents, text data is everywhere. NLP allows us to analyze this text, derive insights, create chatbots, automatic summarizers, and even machine translation tools.\n",
    "\n",
    "___Key NLP Tasks___\n",
    "\n",
    "Tokenization: Breaking text into words or sentences.\n",
    "Stopword Removal: Removing common words that may not add much value in text analysis.\n",
    "Stemming and Lemmatization: Reducing words to their base or root form.\n",
    "Named Entity Recognition (NER): Identifying entities such as person names, organizations, locations in the text.\n",
    "Sentiment Analysis: Determining the sentiment or emotion behind a piece of text.\n",
    "Machine Translation: Translating text from one language to another.\n",
    "... and many more!\n",
    "\n",
    "___First Steps___\n",
    "\n",
    "<figure>\n",
    "    <center>\n",
    "    <img src=\"images/text_processing_flow.png\" width=\"700\" height=\"100\">\n",
    "    <figcaption>Source: <a href=\"https://mlwhiz.com/blog/2019/01/17/deeplearning_nlp_preprocess/\">Link</a></figcaption>\n",
    "    </center>\n",
    "</figure>\n",
    "\n"
   ]
  },
  {
   "cell_type": "markdown",
   "metadata": {},
   "source": [
    "# 2. Récupération, Prétraitement et Exploration du corpus de textes\n"
   ]
  },
  {
   "cell_type": "markdown",
   "metadata": {},
   "source": [
    "### 2. 1. General Context\n",
    "\n",
    "The portrayal of climate change in news media from 1800 to 2000 offers an interesting study into the evolving nature of both scientific understanding and public sentiment regarding this crucial topic. As we explore the timeline, it's essential to understand that both the terminology and public consciousness around climate change underwent significant shifts. The title of Gazette de Lausanne was adopted in 1803. The newspaper was absorbed by the Journal de Genève in 1991. Here's a broad overview:\n",
    "    1. 1800s to Early 1900s: Scientific Observations and Curiosities\n",
    "Pre-Industrial Period: There wasn't much public awareness about climate change during this period. However, some scientists began noting and speculating about possible shifts in global climates based on localized observations.\n",
    "Late 19th Century: Scientists like John Tyndall began researching the greenhouse effect, and Svante Arrhenius suggested that human-made carbon dioxide could enhance this effect, suggesting that a doubling of the CO2 concentration would lead to a 5oC temperature rise, leading to global warming.\n",
    "    2. Mid 1900s: Increasing Scientific Interest & Emergence in Media\n",
    "1950s: Gilbert Plass, a Canadian physicist, concluded that human activity could lead to a doubling of atmospheric CO2, leading to a significant rise in global temperatures. Charles David Keeling started measuring atmospheric CO2 at Mauna Loa, Hawaii, leading to the famous \"Keeling Curve,\" which showed an upward trend. He discovered CO2 levels are highest in the spring, when decomposing plant matter releases CO2 into the air, and are lowest in autumn when plants stop taking in CO2 for photosynthesis.\n",
    "1960s: Newspapers began reporting more frequently on the issue, especially after certain events, such as Earth Day in 1970. Still, the topic wasn't yet mainstream.\n",
    "1970s: During this period, there was some debate in scientific circles about whether the earth was heading towards global warming or a new ice age. The media often reported on both, sometimes leading to public confusion. However, by the end of the decade, the consensus was leaning more towards global warming.\n",
    "    3. Late 1900s: Mainstream Attention and Political Movements\n",
    "1980s: This decade marked a significant shift, with climate change becoming a mainstream media topic. Reports of shrinking polar ice caps, rising global temperatures, and clear connections to human activity made headlines. The United Nations established the Intergovernmental Panel on Climate Change (IPCC) in 1988, further highlighting the issue's urgency.\n",
    "\n",
    "1990s: Climate change became increasingly political. \n",
    "The 1992 Rio Earth Summit and the 1997 Kyoto Protocol were significant international efforts to address global warming. The primary aims of the Protocol are the stabilisation of greenhouse gas levels, whilst also setting objectives for reducing gas emissions in those countries with the highest levels. The media began covering the topic not just as a scientific issue but also as a political, economic, and even moral one.\n",
    "\n",
    "***Noteworthy Considerations:***\n",
    "Terminology: Terms like \"global warming\" and \"climate change\" weren't always used in the way we understand them today. Earlier articles might have used terms like \"changing climates\" or \"greenhouse effect.\"\n",
    "Localization: News in earlier periods often focused on local or regional climate phenomena, which might not have been recognized as part of a larger global trend.\n",
    "Sociopolitical Influence: Especially in the latter half of the 20th century, climate change reporting in the media was also influenced by political ideologies and economic interests, which sometimes led to polarized perspectives.\n",
    "In summary, while climate change as a concept existed in scientific circles from the late 19th century, it took until the latter half of the 20th century to become a mainstream media topic. Over time, the discourse evolved from mere scientific curiosity to an urgent global crisis that demanded collective action.\n"
   ]
  },
  {
   "cell_type": "code",
   "execution_count": 1,
   "metadata": {},
   "outputs": [
    {
     "name": "stderr",
     "output_type": "stream",
     "text": [
      "Reading files: 100%|███████████████████████████████████████████████████████████████████████████████████████████████████████████████████████████████████████████████████████████████████████████████████████████████████████████████████████████████████████| 3/3 [00:23<00:00,  7.84s/it]"
     ]
    },
    {
     "name": "stdout",
     "output_type": "stream",
     "text": [
      "Number of files in data/GDL: 3. Time taken to read files: 23.51578426361084\n"
     ]
    },
    {
     "name": "stderr",
     "output_type": "stream",
     "text": [
      "\n"
     ]
    }
   ],
   "source": [
    "import os\n",
    "import bz2\n",
    "import time\n",
    "import json\n",
    "from tqdm import tqdm\n",
    "\n",
    "from tqdm.notebook import tqdm_notebook  # If you're in a Jupyter environment, otherwise skip this line\n",
    "\n",
    "# If you're in a Jupyter notebook environment\n",
    "tqdm_notebook.pandas()\n",
    "\n",
    "# If you're not in a Jupyter environment\n",
    "tqdm.pandas()\n",
    "\n",
    "# Define the path to the directory: in this case, Gazette de Lausanne\n",
    "NEWSPAPER_FOLDER = 'data/GDL'\n",
    "\n",
    "data = []\n",
    "\n",
    "# To get the total number of bz2 files beforehand (for accurate progress bar)\n",
    "total_files = sum(1 for _, _, filenames in os.walk(NEWSPAPER_FOLDER) for f in filenames if f.endswith('.bz2'))\n",
    "\n",
    "idx = 0\n",
    "# Walk through the directory\n",
    "file_time_start = time.time()\n",
    "for dirpath, dirnames, filenames in os.walk(NEWSPAPER_FOLDER):\n",
    "    for filename in tqdm(filenames, total=total_files, desc=\"Reading files\"):\n",
    "        # Check if the file has a .bz2 extension\n",
    "        if filename.endswith('.bz2'):\n",
    "            filepath = os.path.join(dirpath, filename)\n",
    "            \n",
    "            # Open and read the compressed file\n",
    "            year_data = []\n",
    "            with bz2.open(filepath, 'rt') as file:\n",
    "                for line in file:\n",
    "                    line = json.loads(line)\n",
    "#                     print(line)\n",
    "                    if 'ft' in line:\n",
    "                        # file format: GDL-1986.jsonl.bz2\n",
    "                        data.append({'date': line['d'], 'text': line['ft']})\n",
    "            \n",
    "    \n",
    "    print(f'Number of files in {dirpath}: {len(filenames)}. Time taken to read files: {time.time() - file_time_start}')\n",
    "\n"
   ]
  },
  {
   "cell_type": "code",
   "execution_count": 2,
   "metadata": {},
   "outputs": [
    {
     "data": {
      "text/plain": [
       "{'date': '1846-07-07',\n",
       " 'text': 'CONFÉDÉRATION SUISSE NOUVELLES DES CANTONS. tous les évoques de la Suisse ont adressé à la diète une pétition concernant la suppression des couvens, l\\'administration par l\\'état de leurs biens et les lois portées sur le noviciat. — Ensuite d\\'une lettre adressée de Lucerne au gouvernement de Zug, annonçant qu\\'une conférence des sept cantons était convoquée pour le 5 juillet, le conseil cantonal de Zoug s\\'est assemblé le 2 et a décidé, à une rité de 54 voix contre 4 de prendre part à cette réunion. Il a ensuite chargé MM. Hegglin et Bossard d\\'assister à cette ÎISSGHI 1) 1 GG — Le conseil cantonal de Glaris s\\'est occupé le 1 juillet des instructions pour la diète et il a décidé : 1° Que Glaris maintiendrait sa proposition d\\'ajourner le camp de Thoune jusqu\\'en 1848 ; — 2° Que le différend entre Vaud * et Fribourg, concernant la souveraineté sur le lac de Morat, devait être soumis au droit fédéral ; — 5° De renoua vêler les instructions de l\\'année dernière dans les questions des Jésuites et des couvens ; —4° Sur la proposition de Vaudr concernant les pensions et ordres étrangers, de prendre le référendum, voulant ainsi éviter d\\'exclure du service\\'des officiers de mérite ; .. — 5° De soutenir en ce qui concerne les capitulations militaires, la proposition du Tessin, en tant qu\\'elle se bornera à une simple recommandation ; — 6° Quant au concordat des sept cantons catholiques, Glaris votera dans le sens de Thurgovie. (On se rappelle que ce dernier canton a chargé ses députés de prendre pour guide l\\'art. VI du pacte qui interdit toute alliance préjudiciable à l\\'alliance fédérale et aux droits des autres cantons.) — La députation du canton du Tessin arrivera en diète avec des instructions parfaitement conformes à celles des années précédentes, mais, le grand conseil de cet Etat ayant déjà terminé sa session avant que le texte de l\\'alliance des sept cantons ait pu lui parvenir la députationse trouvera sous ce rapport sans instructions spéciales. LCCERNE. Les députés des sept cantons catholiques ont ouvert, le S juillet, une nouvelle conférence à Lucerne pour y délibérer sur la situation actuelle et les graves intérêts du moment. — Le gouvernement vient de répondre négativement à une demande d\\'extradition que celui d\\'Argovie lui avait adressée au sujet de M. Schleuniger, actuellement professeur à l\\'école cantonale de Lucerne. — M. l\\'avoyer Siegwart-Muller, absent depuis quinze jours, n\\'est pas encore de retour. On dit qu\\'après avoir sité Munich, il a continué sa route jusqu\\'à Vienne. — La cour criminelle a condamné, le 50 juin, M. l\\'avocat Ed. Schnyder à six années de travaux forcés, pour sa participation aux soulèvemens armés qui ont eu lieu dans ce canton ; (on sait que le ministère public avait conclu à la peine de mort). — Il y a quelque temps le nommé Brunner, à peine âgé de 17 ans, fut arrêté sous la prévention d\\'avoir répandu des libelles incendiaires. Aujourd\\'hui ce. jeune homme vient de s\\'échapper de prison. Dimanche dernier, au moment où le geôlier y entrait pour lui porter une tasse de café, Brunner lui porte un violent coup de poing j puis s\\'élançant aussitôt ferme la porte et en saisit la clef, court à son domicile y prend quelques effets et se dirige vers la route de Zurich. Arrivé dans cette ville il a envoyé au directeur de la prison la clef qu\\'il avait emportée. —La Gazette d\\'Etat publie sur l\\'alliance des sept cantons un long article, qu\\'elle termine ainsi : — « Quelle radicalisme menace tant qu\\'il voudra, il ne réussira pas *» nous intimider, et encore moins à nous terroriser, car au-dessus de la lettre morte des traités il est une alliance qui se trouve gravée dans les cœurs des catholiquesde la Suisse entière, alliance vivante qui ne dépend ni des décrets des sept états catholiques, ni des arrêtés de la diète, mais qui doit sa naissance au radicalisme et aux attaques injustes dont les catholiques ont été l\\'objet de sa part. » SOLÈURE. Le grand conseil s\\'est assemblé en session ordinaire le 50 juin, et il a procédé d\\'abord au remplacement des membres sortis de ce corps par le sort et dontla constitution lui confère l\\'élection. Tous les anciens membres ont été réélus. Il s\\'est ensuite choisi pour président M. Lack, etM. Trog pour viceprésident. — Les instructions pour les députés à la diète, votées le l juillet, portent que l\\'affaire des jésuites doit être déclarée fédérale et se prononcent pour la dissolution de l\\'aljiance des sept cantons catholiques. MM. le landammann Munzinger et Schmid, président du tribunal d\\'appel, ont été nommés députés. — La députation du canton de Vaud à la diète a passé le 2 juillet dans notre ville, se. rendant à Arau. On dit que les députations de quelques cantons radicaux se réuniront dans cette dernière ville pour s\\'entendre, quelquesjours ayant l\\'ouverture de la diète, sur la marche qu\\'il convient de suivre. -BERNE. (Le dernier n° de la Gazette de Lausanne contenait en Post Scriptum l\\'instruction complémentaire donnée par le grand conseil à ses députés en diète sur l\\'alliance des sept cantons. Ce résultat était attendu avec une telle impatience que nous n\\'avons pas voulu l\\'ajourner jusqu\\'au compte-rendu de la séance. Aujourd\\'hui, nous en devons les détails au public.) La séance est ouverte par la lecture des instructions proposées par le conseil d\\'état et qui se résument à ce que la députation de Berne soit autorisée à consentir à toutes les mesures qui seront prises contre cette ligue, vu qu\\'elle viole l\\'art. 6 du pacte fédéra). A son tour M. Ochsenbein propose l\\'instruction suivante : i° d\\'approuver les démarches faites par le vorortàce sujet ; 2° qu\\'à l\\'invitation de la diète, la dissolution de ce concordat ait lieu immédiatement ; 5° que la diète emploie toutes les mesures possibles pour obtenir cette dissolution, et que les cantons soient rendus responsables des suites fâcheuses que leur insoumission pourrait entraîner. En motivant sa proposition, l\\'orateur parle do la ligue borroméenne, fondée dans le but de résister à la réformation. Les jésuites ont été introduits à Lucerne, à Fribourg, dans le Valais, à Porrentruy et à Soleure, toujours dans le même but. En 1845 ce concordat fut renouvelé, et il prouve par le protocole du 15 et 14 septembre de la même année, que cette conférence sarnienne s\\'est reconstituée à Bothen, près Lucerne, et qu\\'étant contraire à l\\'article 6 du pacte fédéral, il demande que ce concordat ne soit pas seulement dissout, mais aussi que la diète se déclare en permanence jusqu\\'à ce que cette résolution soit exécutée. M. Stettler vote poqr l\\'instruction proposée par le gouvernement. Il croit que la division qui règne actuellement entre les cantons est un \\'ennemi tout aussi dangereux pour notre patrie que l\\'alliance des sept cantons ; du reste, dit l\\'orateur, les états qui ont conclu celte alliance ne peuvent avoir une grande confiance dans le futur gouvernement de Berne, qui sera en grande partie composé de gens qui ont pris part à l\\'expédition des corps-francs contre Lucerne. (L\\'orateur a été rappelé à l\\'ordre.) M. Blœsch n\\'a pas la prétention d\\'éclairer l\\'assemblée et moins encore de là faire revenir de ses opinions. L\\'orateur croit imminente la rencontre des élémens opposés qui diyï ? sent la Suisse ; il compare les partis à deux gros nuages » fw-t temènt chargés d\\'électricité, et dont le choc, peut-être ter .-rible, ne peut tarder à avoir lieu. Il vote contre les propQsjr tions du conseil d\\'état et proteste contre toutes les eqnsé-7 quences que leur adoption peut entraîner.. „ M. Jaggi cadet, conseiller d\\'état, trouve que la proposition du gouvernement n\\'est pas assez énergique, la ppsjtjoj » < ty canton de Berne demande une instruction plus décidée ., c\\'est pourquoi il votera pour la proposition de M. Ochsenbein ., avec la modification que la diète sera ajournée jusqu\\'à ce qu * eette décision soit exécutée. M. May ne voit aucun danger dans le concordat Ô « 8 fçpl » il l\\'envisage comme celui de 1832, il recommande d « la pas tience jusqu\\'à qu\\'on ait reçu la déclaration ides états wnew ? dants. M. Tillier veut donner des instructions larges, afin que la députation puisse se joindre à la majorité des. canton *,M. Imouerstcg. dit que des concordats peuventêtre matât lorsqu\\'ils ne sont pas en opposition avec le pactefédcral, Jw % que dans le cas contraire ils doivent être supprimés ; et qu\\'en conséquence, cette ligue borroméenne n\\'étant pas en harmonie avec le pacte, ne peut exister dans la. çonfédéra ? tion. > M. Schneider, cadet, conseiller d\\'état, considère cette # fr fair » comme l\\'une des plus graves qui ait été traitée depuis 1815 ; il fait remarquer que ce concordat avait déjà prjs racine en 1859, et qu\\'il a été provoqué par Siegv / aEt-MuUer. Il conseille d\\'en finir le plus tôt possible et en même tenjjS d\\'une manière décisive. Le rapporteur (M. de Tavel) fait observer que l\\'Instruction proposée par le conseil d\\'état est très-large, vu que $ » dépulation pourrait voter même une intervention armée, tandis que la proposition de M. Ochsenbein oné part ,-qiig d\\'un point de vue fixe ; il recommandedonc la proposition du conseil d\\'état. M. Ochsenbein modifie sa. proposition en faisant abstraction d\\'une diète permanente ; il se joint à M. Jaggi en dÇPJAR *? dant l\\'ajournement la diète, jusqu\\'à Vexécutipn de £ a décision. : * A la votalion, : 1 e grand conseil adopte les proposition ? $ Q « M. Ochsenbein telles quelles sont indiquées cifd § ssus. ejjque le dernier n°. de la Gazette de Lausanne les rajroojPte... rrrLa proposition du canton de Vaud, que les députés £. )& diète et les employés de la confédération ne doivent pas poi ;-\\'ter d\\'ordres étrangers, et qu\\'il leur soitdéfendu, d\\'aeceptejs * un ordre, ou une pension aussi longtemps qu\\'ils sont en seiv * * vice, est modifiée dans ce sens que les ordres reçus pour de £\\'fiùts militaires soient exceptés.. •• »\\'* ASSEMBLÉE CONSTITUANTE. La constituante, dans sa séance du 2 juillet s\\'est occupée de l\\'art. 79 du projet.. * \"\"\" : \" _ Cet article garantit les droits de l\\'Eglise nationale évangélique réformée, ceux de l\\'Eglise catholique romaine, ainsi » que l\\'exercice public de ce culte dans les communes qui professent cette religion. Un synode ecclésiastique règle les affaires intérieures de l\\'Eglise évangéliqué réformée et une commission ecclésiastique composée de catholiques réglé lés affaires de l\\'Eglise catholique. Après quelques observations assez insignifiantes, cet article a été adopté à une forte majorité. >>»\\'V « s •\\'\\' % .,-••\\'•• \" **>FRIBOURG. ..\\':\\'. Le gouvernement de Fribourg vjen, t d\\'adresser à celui d ? Vaud la réclamation suivante : Fidèles etchersconfédérés, Le grand conseil de votre canton a, dans sa dernière se »-sion, porté un décret qui frappe d\\'un impôt deAp. ^;. 4 e » '}"
      ]
     },
     "execution_count": 2,
     "metadata": {},
     "output_type": "execute_result"
    }
   ],
   "source": [
    "data[0]"
   ]
  },
  {
   "cell_type": "code",
   "execution_count": 3,
   "metadata": {},
   "outputs": [],
   "source": [
    "import pandas as pd # read about pandas library"
   ]
  },
  {
   "cell_type": "code",
   "execution_count": 4,
   "metadata": {},
   "outputs": [],
   "source": [
    "# Transform the data into a pandas dataframe\n",
    "\n",
    "data = pd.DataFrame.from_dict(data)"
   ]
  },
  {
   "cell_type": "code",
   "execution_count": 5,
   "metadata": {},
   "outputs": [
    {
     "data": {
      "text/html": [
       "<div>\n",
       "<style scoped>\n",
       "    .dataframe tbody tr th:only-of-type {\n",
       "        vertical-align: middle;\n",
       "    }\n",
       "\n",
       "    .dataframe tbody tr th {\n",
       "        vertical-align: top;\n",
       "    }\n",
       "\n",
       "    .dataframe thead th {\n",
       "        text-align: right;\n",
       "    }\n",
       "</style>\n",
       "<table border=\"1\" class=\"dataframe\">\n",
       "  <thead>\n",
       "    <tr style=\"text-align: right;\">\n",
       "      <th></th>\n",
       "      <th>date</th>\n",
       "      <th>text</th>\n",
       "    </tr>\n",
       "  </thead>\n",
       "  <tbody>\n",
       "    <tr>\n",
       "      <th>0</th>\n",
       "      <td>1846-07-07</td>\n",
       "      <td>CONFÉDÉRATION SUISSE NOUVELLES DES CANTONS. to...</td>\n",
       "    </tr>\n",
       "    <tr>\n",
       "      <th>1</th>\n",
       "      <td>1846-07-07</td>\n",
       "      <td>Une ordonnance royale, communiquée le 5 aux de...</td>\n",
       "    </tr>\n",
       "    <tr>\n",
       "      <th>2</th>\n",
       "      <td>1846-07-07</td>\n",
       "      <td>UN PASTEUR in FEUILLETON DELA GAZETTE DE LAUSA...</td>\n",
       "    </tr>\n",
       "    <tr>\n",
       "      <th>3</th>\n",
       "      <td>1846-07-07</td>\n",
       "      <td>AVI ^ Le conseil communal de Payerne ayant déc...</td>\n",
       "    </tr>\n",
       "    <tr>\n",
       "      <th>4</th>\n",
       "      <td>1846-07-07</td>\n",
       "      <td>GAZETTE DE ET JOURNAL SUISSE.</td>\n",
       "    </tr>\n",
       "  </tbody>\n",
       "</table>\n",
       "</div>"
      ],
      "text/plain": [
       "         date                                               text\n",
       "0  1846-07-07  CONFÉDÉRATION SUISSE NOUVELLES DES CANTONS. to...\n",
       "1  1846-07-07  Une ordonnance royale, communiquée le 5 aux de...\n",
       "2  1846-07-07  UN PASTEUR in FEUILLETON DELA GAZETTE DE LAUSA...\n",
       "3  1846-07-07  AVI ^ Le conseil communal de Payerne ayant déc...\n",
       "4  1846-07-07                     GAZETTE DE ET JOURNAL SUISSE. "
      ]
     },
     "execution_count": 5,
     "metadata": {},
     "output_type": "execute_result"
    }
   ],
   "source": [
    "data.head() # afficher les 5 premières lignes"
   ]
  },
  {
   "cell_type": "code",
   "execution_count": 6,
   "metadata": {},
   "outputs": [
    {
     "data": {
      "text/html": [
       "<div>\n",
       "<style scoped>\n",
       "    .dataframe tbody tr th:only-of-type {\n",
       "        vertical-align: middle;\n",
       "    }\n",
       "\n",
       "    .dataframe tbody tr th {\n",
       "        vertical-align: top;\n",
       "    }\n",
       "\n",
       "    .dataframe thead th {\n",
       "        text-align: right;\n",
       "    }\n",
       "</style>\n",
       "<table border=\"1\" class=\"dataframe\">\n",
       "  <thead>\n",
       "    <tr style=\"text-align: right;\">\n",
       "      <th></th>\n",
       "      <th>date</th>\n",
       "      <th>text</th>\n",
       "    </tr>\n",
       "  </thead>\n",
       "  <tbody>\n",
       "    <tr>\n",
       "      <th>60575</th>\n",
       "      <td>1990-05-22</td>\n",
       "      <td></td>\n",
       "    </tr>\n",
       "    <tr>\n",
       "      <th>60576</th>\n",
       "      <td>1990-05-22</td>\n",
       "      <td></td>\n",
       "    </tr>\n",
       "    <tr>\n",
       "      <th>60577</th>\n",
       "      <td>1990-05-22</td>\n",
       "      <td></td>\n",
       "    </tr>\n",
       "    <tr>\n",
       "      <th>60578</th>\n",
       "      <td>1990-05-22</td>\n",
       "      <td></td>\n",
       "    </tr>\n",
       "    <tr>\n",
       "      <th>60579</th>\n",
       "      <td>1990-05-22</td>\n",
       "      <td></td>\n",
       "    </tr>\n",
       "  </tbody>\n",
       "</table>\n",
       "</div>"
      ],
      "text/plain": [
       "             date text\n",
       "60575  1990-05-22     \n",
       "60576  1990-05-22     \n",
       "60577  1990-05-22     \n",
       "60578  1990-05-22     \n",
       "60579  1990-05-22     "
      ]
     },
     "execution_count": 6,
     "metadata": {},
     "output_type": "execute_result"
    }
   ],
   "source": [
    "data.tail() # afficher les 5 dernières lignes"
   ]
  },
  {
   "cell_type": "code",
   "execution_count": 7,
   "metadata": {},
   "outputs": [],
   "source": [
    "data['year'] = data['date'].apply(lambda x: int(x[:4]))\n",
    "data['month'] = data['date'].apply(lambda x: int(x[5:7]))\n",
    "data['day'] = data['date'].apply(lambda x: int(x[8:]))"
   ]
  },
  {
   "cell_type": "code",
   "execution_count": 8,
   "metadata": {},
   "outputs": [
    {
     "data": {
      "text/html": [
       "<div>\n",
       "<style scoped>\n",
       "    .dataframe tbody tr th:only-of-type {\n",
       "        vertical-align: middle;\n",
       "    }\n",
       "\n",
       "    .dataframe tbody tr th {\n",
       "        vertical-align: top;\n",
       "    }\n",
       "\n",
       "    .dataframe thead th {\n",
       "        text-align: right;\n",
       "    }\n",
       "</style>\n",
       "<table border=\"1\" class=\"dataframe\">\n",
       "  <thead>\n",
       "    <tr style=\"text-align: right;\">\n",
       "      <th></th>\n",
       "      <th>date</th>\n",
       "      <th>text</th>\n",
       "      <th>year</th>\n",
       "      <th>month</th>\n",
       "      <th>day</th>\n",
       "    </tr>\n",
       "  </thead>\n",
       "  <tbody>\n",
       "    <tr>\n",
       "      <th>0</th>\n",
       "      <td>1846-07-07</td>\n",
       "      <td>CONFÉDÉRATION SUISSE NOUVELLES DES CANTONS. to...</td>\n",
       "      <td>1846</td>\n",
       "      <td>7</td>\n",
       "      <td>7</td>\n",
       "    </tr>\n",
       "    <tr>\n",
       "      <th>1</th>\n",
       "      <td>1846-07-07</td>\n",
       "      <td>Une ordonnance royale, communiquée le 5 aux de...</td>\n",
       "      <td>1846</td>\n",
       "      <td>7</td>\n",
       "      <td>7</td>\n",
       "    </tr>\n",
       "    <tr>\n",
       "      <th>2</th>\n",
       "      <td>1846-07-07</td>\n",
       "      <td>UN PASTEUR in FEUILLETON DELA GAZETTE DE LAUSA...</td>\n",
       "      <td>1846</td>\n",
       "      <td>7</td>\n",
       "      <td>7</td>\n",
       "    </tr>\n",
       "    <tr>\n",
       "      <th>3</th>\n",
       "      <td>1846-07-07</td>\n",
       "      <td>AVI ^ Le conseil communal de Payerne ayant déc...</td>\n",
       "      <td>1846</td>\n",
       "      <td>7</td>\n",
       "      <td>7</td>\n",
       "    </tr>\n",
       "    <tr>\n",
       "      <th>4</th>\n",
       "      <td>1846-07-07</td>\n",
       "      <td>GAZETTE DE ET JOURNAL SUISSE.</td>\n",
       "      <td>1846</td>\n",
       "      <td>7</td>\n",
       "      <td>7</td>\n",
       "    </tr>\n",
       "  </tbody>\n",
       "</table>\n",
       "</div>"
      ],
      "text/plain": [
       "         date                                               text  year  month  \\\n",
       "0  1846-07-07  CONFÉDÉRATION SUISSE NOUVELLES DES CANTONS. to...  1846      7   \n",
       "1  1846-07-07  Une ordonnance royale, communiquée le 5 aux de...  1846      7   \n",
       "2  1846-07-07  UN PASTEUR in FEUILLETON DELA GAZETTE DE LAUSA...  1846      7   \n",
       "3  1846-07-07  AVI ^ Le conseil communal de Payerne ayant déc...  1846      7   \n",
       "4  1846-07-07                     GAZETTE DE ET JOURNAL SUISSE.   1846      7   \n",
       "\n",
       "   day  \n",
       "0    7  \n",
       "1    7  \n",
       "2    7  \n",
       "3    7  \n",
       "4    7  "
      ]
     },
     "execution_count": 8,
     "metadata": {},
     "output_type": "execute_result"
    }
   ],
   "source": [
    "data.head()"
   ]
  },
  {
   "cell_type": "markdown",
   "metadata": {},
   "source": [
    "With Pandas, we can start with some simple stats. Subsequent results will be in descending order so that the first item is the most frequent item."
   ]
  },
  {
   "cell_type": "code",
   "execution_count": 9,
   "metadata": {},
   "outputs": [
    {
     "data": {
      "text/plain": [
       "1990    57491\n",
       "1798     1565\n",
       "1846     1524\n",
       "Name: year, dtype: int64"
      ]
     },
     "execution_count": 9,
     "metadata": {},
     "output_type": "execute_result"
    }
   ],
   "source": [
    "data.year.value_counts()"
   ]
  },
  {
   "cell_type": "markdown",
   "metadata": {},
   "source": [
    "With Pandas we can also visualize these statistics."
   ]
  },
  {
   "cell_type": "code",
   "execution_count": 11,
   "metadata": {},
   "outputs": [
    {
     "data": {
      "image/png": "[encoded data removed]",
      "text/plain": [
       "<Figure size 600x300 with 1 Axes>"
      ]
     },
     "metadata": {},
     "output_type": "display_data"
    }
   ],
   "source": [
    "import matplotlib.pyplot as plt\n",
    "\n",
    "# ... your data processing ...\n",
    "\n",
    "# Before plotting, set the size using `figsize` argument\n",
    "ax = data.year.value_counts().plot(kind='bar', figsize=(6,3))  # Adjust (12,8) as needed\n",
    "\n",
    "plt.show()  # Display the plot\n"
   ]
  },
  {
   "cell_type": "markdown",
   "metadata": {},
   "source": [
    "### 2.2 Pré-traitement de texte \n",
    "\n",
    "Dans tout processus d'analyse de texte, la première et la plus importante des étapes est de **constituer un corpus**, un ensemble de documents, et de **le nettoyer** afin de l'exploiter. \n",
    "\n",
    "Les étapes de prétraitement (*preprocessing*) sont cruciales car elles permettent de **nettoyer le texte** de tous ses éléments qui ne sont **pas porteurs de sens**, et le préparent pour l’analyse.\n",
    "Les différentes étapes sont :\n",
    "1. La ***tokenisation*** est un moyen de séparer un morceau de texte en unités plus petites appelées **tokens**. Les **tokens** sont généralement des **mots**.\n",
    "\n",
    "2. La ***normalisation*** du texte est importante pour les textes bruyants comme par exemple ces données. qui sont des documents numérisés qui, comme nous l'avons vu, contiennent de nombreuses erreurs: les **abréviations**, les **fautes d'orthographe** et l'utilisation de mots hors vocabulaire (oov) sont répandus. Ce procédé implique également la **suppression des mots vides** ou des **mots bruyants** qui peuvent perturber l'analyse (conjugaisons, majuscules, ponctuations, etc.).\n",
    "\n",
    "**Note**: en analyse de données, ces étapes sont généralement les plus fastidieuses, car elle impliquent un long travail de normalisation de données.\n",
    "\n",
    "Nous allons utiliser les bibliothèques de traitement du langage [`nltk`](https://www.nltk.org/), [`spaCy`](https://spacy.io) ainsi que les bibliothèques scientifiques classiques que sont [`pandas`](https://pandas.pydata.org/), [`numpy`](https://numpy.org/). La bibliothèque [`spaCy`](https://spacy.io) nous permet d'obtenir ces informations facilement.\n",
    "\n",
    "PS: l'installation de cette bibliothèque est très simple dans envirement virtuel (ou ici, dans le notebook):\n",
    "\n",
    "```\n",
    "!pip install spacy\n",
    "!python -m spacy download fr_core_news_sm```"
   ]
  },
  {
   "cell_type": "code",
   "execution_count": null,
   "metadata": {},
   "outputs": [],
   "source": [
    "!pip install spacy\n"
   ]
  },
  {
   "cell_type": "code",
   "execution_count": null,
   "metadata": {},
   "outputs": [],
   "source": [
    "!python -m spacy download fr_core_news_sm"
   ]
  },
  {
   "cell_type": "markdown",
   "metadata": {},
   "source": [
    "### 2.2.1 Suppression des [mots vides](https://fr.wikipedia.org/wiki/Mot_vide) (stopwords)\n",
    "\n",
    "La première manipulation souvent effectuée dans le traitement du texte est la suppression des mots vides, ou *stopwords*. Ce sont les mots très courants dans la langue étudiée (« the », « a », en anglais) qui dans beaucoup des cas **n'apportent pas de valeur informative** pour la compréhension d’un document ou d’un corpus. \n",
    "\n",
    "Par exemple, dans le contexte d'un système de recherche, si votre requête de recherche est «Qu'est-ce que le prétraitement de texte ?», vous voulez que le système de recherche se concentre sur les documents qui parlent de «prétraitement de texte» plutôt que sur les documents qui parlent de «Qu'est-ce que le». Cela peut être fait en empêchant tous les mots de votre liste de mots vides d'être analysés. Les mots vides sont couramment appliqués dans les systèmes de recherche, les applications de classification de texte, la modélisation de sujets, l'extraction de sujets et autres.\n",
    "\n",
    "Par contre, la suppression des mots vides, bien qu'efficace dans les systèmes de recherche et d'extraction de sujets, s'est avérée non critique dans les algorithmes de classification and ils sont assez importants dans la création d'un [**modèle de langage**](https://medium.com/@pierre_guillou/nlp-fastai-gpt-2-16ee145a4a28) dans lequel le sens d'un mot dépend de tous les mots environnants. Cependant, cela aide à réduire le nombre de fonctionnalités prises en compte, ce qui permet de garder vos modèles de taille décente."
   ]
  },
  {
   "cell_type": "code",
   "execution_count": 12,
   "metadata": {},
   "outputs": [
    {
     "name": "stderr",
     "output_type": "stream",
     "text": [
      "/Users/eboros/Library/Python/3.9/lib/python/site-packages/urllib3/__init__.py:34: NotOpenSSLWarning: urllib3 v2.0 only supports OpenSSL 1.1.1+, currently the 'ssl' module is compiled with 'LibreSSL 2.8.3'. See: https://github.com/urllib3/urllib3/issues/3020\n",
      "  warnings.warn(\n"
     ]
    },
    {
     "data": {
      "text/plain": [
       "(['tout',\n",
       "  'à',\n",
       "  'auraient',\n",
       "  'eux',\n",
       "  'plutot',\n",
       "  'notre',\n",
       "  'comment',\n",
       "  'j’',\n",
       "  'miennes',\n",
       "  'différente'],\n",
       " ['!', '\"', '#', '$', '%', '&', \"'\", '(', ')', '*'])"
      ]
     },
     "execution_count": 12,
     "metadata": {},
     "output_type": "execute_result"
    }
   ],
   "source": [
    "import spacy\n",
    "import string\n",
    "\n",
    "nlp = spacy.load(\"fr_core_news_sm\") # charge le modèle en anglais\n",
    "\n",
    "spacy_stopwords = list(spacy.lang.fr.stop_words.STOP_WORDS) # la liste des mots vides de SpaCy\n",
    "\n",
    "punctuation = list(string.punctuation) # une liste avec ponctuations\n",
    "\n",
    "spacy_stopwords[:10], punctuation[:10]"
   ]
  },
  {
   "cell_type": "code",
   "execution_count": 13,
   "metadata": {},
   "outputs": [
    {
     "name": "stdout",
     "output_type": "stream",
     "text": [
      "['tout', 'à', 'auraient', 'eux', 'plutot', 'notre', 'comment', 'j’', 'miennes', 'différente', 'dessus', 'soi-même', 'vé', 'du', 'soit', 'voilà', 'tente', 'quelque', 'nombreux', 'sienne', 'anterieures', 'quel', 'retour', 'septième', 'plus', 'ait', 'derrière', 'cela', 'certain', 'suis', 'néanmoins', 'seront', 'te', 'jusqu', 'plusieurs', 'celles', 'environ', 'vôtre', 'devra', \"l'\", 'surtout', 'semblaient', 'importe', 'directement', 'celles-ci', 'fais', 'personne', 'pourrait', 'laquelle', 'nous-mêmes', 'proche', 'quatrièmement', 'aurait', 'avait', 'douze', \"j'\", 'certains', 'cinquantaine', 'vu', 'pu', 'ouvert', 'dite', 'alors', 'elle-meme', 'desormais', 'partant', 'ha', 'onze', 'etre', 'également', 'troisième', 'directe', 'dix-huit', 'revoici', 'parlent', 'tiens', 'elle-même', 'seule', 'doivent', 'antérieures', 'ès', 'semble', 'differents', 'tels', 'n’', 'quarante', 'puisque', 'meme', 'precisement', 'auquel', 'pourquoi', 'suivants', 'aura', 'possibles', 'â', 'préalable', 'effet', 'font', 'toujours', 'sixième', 'quels', 'anterieure', 'de', 'pour', 'leur', 'abord', 'enfin', 'té', 'es', 'toi-même', 'avec', 'dixième', 'après', 'celui-ci', 'maint', 'voici', 'ma', 'les', 'très', 'ses', 'dix-neuf', 'sauf', 'fait', 'elles', 'anterieur', 'cependant', 'siennes', 'aux', 'hue', 'la', 'relative', 'doit', 'reste', 'exactement', 'sept', 'duquel', 'sent', 'lequel', 'divers', 'suffisante', 'vous-mêmes', 'moi', 'revoila', 'neanmoins', 'pourrais', 'quelques', 'ont', 'pense', 'restant', 'vous', 'encore', 'houp', 'specifique', 'elles-memes', 'concernant', 'telle', 'rend', 'toutes', 'lesquelles', 'je', 'tel', 'comme', 'eu', 'certes', 'tend', 'cent', 'seul', 'allaient', 'différentes', 'seuls', 'ton', 'il', 'des', 'aupres', 'lès', 'quant-à-soi', 'autrui', 'entre', 'ô', 'ils', 'celui', 'leurs', 'on', \"d'\", 'egalement', 'là', 'delà', 'pendant', 'ce', 'allons', 'huitième', 'compris', 'basee', 'permet', 'douzième', 'deuxièmement', 'parfois', 'sous', 'auront', 'elles-mêmes', 'notamment', 'suivant', 'un', 'le', 'serait', 'suivre', 't’', 'devant', 'lui-même', 'tellement', 'eh', 'premièrement', 'sa', 'etait', 'tres', 'diverses', 'moindres', 'soi', 'memes', 'être', 'cinquième', 'ho', 'ou', 'ceux-là', 'possible', 'mille', 'son', 'feront', 'selon', 'revoilà', 'mêmes', 'quoi', 'sont', 'avons', 'désormais', 'uns', 'quiconque', 'car', 'vôtres', 'desquelles', 'nouveau', 'o', 'cinquante', \"m'\", 'relativement', 'specifiques', \"c'\", 'celle', 'combien', 'seules', 'autres', 'faisaient', 'celui-là', 'parler', 'et', 'lorsque', 'votres', 'aussi', 'telles', 'prealable', 'cinquantième', 'malgre', 'touchant', 'celle-la', 'précisement', 'seulement', 'hep', 'au', 'ouverte', 'quatre-vingt', 'sait', 'debout', 'jusque', 'dès', 'cette', 'ceux', 'mes', 'hé', 'deuxième', 'mien', 'nous', 'ta', 'déjà', 'different', 'rendre', 'dedans', 'suivante', 'quatorze', 'dit', 'auxquels', 'suivantes', 'où', 'hou', 'mon', 'troisièmement', 'spécifiques', 'spécifique', 'quant', 'soixante', 'avais', 'plutôt', 'na', 'neuvième', 'avant', 'près', 'dehors', 'toute', 'tant', 'restent', 'pas', 'semblent', 'ouverts', 'qui', 'étais', 'celui-la', 'parle', 'certaines', 'sera', 'longtemps', 'apres', 'trente', 'cinq', 'etc', 'depuis', 'y', 'quelconque', 'mienne', 'avaient', 'va', 's’', 'une', 'se', 'chacune', 'unes', 'nôtres', 'ne', 'c’', 'antérieure', 'sur', 'étaient', 'premier', 'seize', 'celle-là', 'nos', 'antérieur', 'peu', 'i', 'differentes', 'quelles', 'est', 'cet', 'six', 'lui-meme', 'ouste', 'peuvent', 'hem', 'avoir', 'lui', 'parmi', 'suffit', 'moi-meme', 'quatrième', 'celles-là', 'diverse', 'vers', 'façon', 'etant', 'eux-mêmes', 'tien', 'quelle', 'ai', 'durant', 'chacun', 'sinon', 'elle', 'ainsi', 'nul', 'excepté', 'celle-ci', \"qu'\", 'laisser', 'ah', 'pouvait', 'était', 'malgré', 'quoique', 'sien', 'qu’', 'da', 'hi', 'hors', 'par', 'souvent', 'bas', 'ni', \"s'\", 'siens', 'desquels', 'chaque', 'envers', 'hui', 'dix', 'deja', 'onzième', 'parce', 'auxquelles', 'sans', 'bat', 'afin', 'tenir', 'etaient', 'dont', 'donc', 'merci', 'etais', 'gens', 'soi-meme', 'lesquels', 'ayant', 'treize', 'certaine', 'première', 'suit', 'differente', 'dire', 'maintenant', 'faisant', 'huit', 'm’', 'même', 'ceux-ci', 'peux', 'puis', 'déja', 'ci', 'nombreuses', 'as', 'facon', 'que', 'étant', 'miens', 'différents', 'outre', 'vais', 'dessous', 'toi', 'trois', 'dits', 'via', 'a', 'devers', 'tenant', 'dejà', 'votre', 'ça', 'vos', 'suffisant', 'vingt', 'd’', 'hormis', 'lors', \"t'\", 'procedant', 'quand', 'attendu', 'derriere', 'juste', 'quatre', 'ouias', 'me', 'semblable', 'tiennes', 'ceci', 'moi-même', 'or', 'si', 'stop', 'dans', 'dix-sept', \"quelqu'un\", 'différent', 'tes', 'vas', 'mais', 'aie', 'ces', 'tous', 'assez', 'quinze', 'chez', 'celles-la', 'autrement', 'moins', 'toi-meme', 'peut', \"n'\", 'nôtre', 'voila', 'tienne', 'tu', 'vont', 'pres', 'seraient', 'l’', 'autre', 'en', 'deux']\n"
     ]
    }
   ],
   "source": [
    "print(spacy_stopwords)"
   ]
  },
  {
   "cell_type": "code",
   "execution_count": 14,
   "metadata": {},
   "outputs": [
    {
     "data": {
      "text/html": [
       "<div>\n",
       "<style scoped>\n",
       "    .dataframe tbody tr th:only-of-type {\n",
       "        vertical-align: middle;\n",
       "    }\n",
       "\n",
       "    .dataframe tbody tr th {\n",
       "        vertical-align: top;\n",
       "    }\n",
       "\n",
       "    .dataframe thead th {\n",
       "        text-align: right;\n",
       "    }\n",
       "</style>\n",
       "<table border=\"1\" class=\"dataframe\">\n",
       "  <thead>\n",
       "    <tr style=\"text-align: right;\">\n",
       "      <th></th>\n",
       "      <th>date</th>\n",
       "      <th>text</th>\n",
       "      <th>year</th>\n",
       "      <th>month</th>\n",
       "      <th>day</th>\n",
       "    </tr>\n",
       "  </thead>\n",
       "  <tbody>\n",
       "    <tr>\n",
       "      <th>0</th>\n",
       "      <td>1846-07-07</td>\n",
       "      <td>CONFÉDÉRATION SUISSE NOUVELLES DES CANTONS. to...</td>\n",
       "      <td>1846</td>\n",
       "      <td>7</td>\n",
       "      <td>7</td>\n",
       "    </tr>\n",
       "    <tr>\n",
       "      <th>1</th>\n",
       "      <td>1846-07-07</td>\n",
       "      <td>Une ordonnance royale, communiquée le 5 aux de...</td>\n",
       "      <td>1846</td>\n",
       "      <td>7</td>\n",
       "      <td>7</td>\n",
       "    </tr>\n",
       "    <tr>\n",
       "      <th>2</th>\n",
       "      <td>1846-07-07</td>\n",
       "      <td>UN PASTEUR in FEUILLETON DELA GAZETTE DE LAUSA...</td>\n",
       "      <td>1846</td>\n",
       "      <td>7</td>\n",
       "      <td>7</td>\n",
       "    </tr>\n",
       "    <tr>\n",
       "      <th>3</th>\n",
       "      <td>1846-07-07</td>\n",
       "      <td>AVI ^ Le conseil communal de Payerne ayant déc...</td>\n",
       "      <td>1846</td>\n",
       "      <td>7</td>\n",
       "      <td>7</td>\n",
       "    </tr>\n",
       "    <tr>\n",
       "      <th>4</th>\n",
       "      <td>1846-07-07</td>\n",
       "      <td>GAZETTE DE ET JOURNAL SUISSE.</td>\n",
       "      <td>1846</td>\n",
       "      <td>7</td>\n",
       "      <td>7</td>\n",
       "    </tr>\n",
       "  </tbody>\n",
       "</table>\n",
       "</div>"
      ],
      "text/plain": [
       "         date                                               text  year  month  \\\n",
       "0  1846-07-07  CONFÉDÉRATION SUISSE NOUVELLES DES CANTONS. to...  1846      7   \n",
       "1  1846-07-07  Une ordonnance royale, communiquée le 5 aux de...  1846      7   \n",
       "2  1846-07-07  UN PASTEUR in FEUILLETON DELA GAZETTE DE LAUSA...  1846      7   \n",
       "3  1846-07-07  AVI ^ Le conseil communal de Payerne ayant déc...  1846      7   \n",
       "4  1846-07-07                     GAZETTE DE ET JOURNAL SUISSE.   1846      7   \n",
       "\n",
       "   day  \n",
       "0    7  \n",
       "1    7  \n",
       "2    7  \n",
       "3    7  \n",
       "4    7  "
      ]
     },
     "execution_count": 14,
     "metadata": {},
     "output_type": "execute_result"
    }
   ],
   "source": [
    "data.head()"
   ]
  },
  {
   "cell_type": "markdown",
   "metadata": {},
   "source": [
    "Ensuite, nous créons une fonction pour prétraiter tous les documents dans le dataframe Pandas. \n"
   ]
  },
  {
   "cell_type": "code",
   "execution_count": 16,
   "metadata": {},
   "outputs": [
    {
     "name": "stderr",
     "output_type": "stream",
     "text": [
      "100%|██████████████████████████████████████████████████████████████████████████████████████████████████████████████████████████████████████████████████████████████████████████████████████████████████████████████████████████████████████████████| 60580/60580 [46:41<00:00, 21.62it/s]\n"
     ]
    }
   ],
   "source": [
    "def preprocess(phrase):\n",
    "\n",
    "    phrase = phrase.lower()\n",
    "\n",
    "    tokens = [token.text.replace('\\n', '').strip() for token in nlp(phrase) \n",
    "              if token.text.lower() not in spacy_stopwords + punctuation]\n",
    "    \n",
    "    tokens = [token for token in tokens if len(token) > 0]\n",
    "    \n",
    "    if len(tokens) > 0:\n",
    "        return ' '.join(tokens)\n",
    "    return None\n",
    "\n",
    "data['cleaned_text'] = data['text'].progress_apply(preprocess)"
   ]
  },
  {
   "cell_type": "code",
   "execution_count": 17,
   "metadata": {},
   "outputs": [
    {
     "data": {
      "text/html": [
       "<div>\n",
       "<style scoped>\n",
       "    .dataframe tbody tr th:only-of-type {\n",
       "        vertical-align: middle;\n",
       "    }\n",
       "\n",
       "    .dataframe tbody tr th {\n",
       "        vertical-align: top;\n",
       "    }\n",
       "\n",
       "    .dataframe thead th {\n",
       "        text-align: right;\n",
       "    }\n",
       "</style>\n",
       "<table border=\"1\" class=\"dataframe\">\n",
       "  <thead>\n",
       "    <tr style=\"text-align: right;\">\n",
       "      <th></th>\n",
       "      <th>date</th>\n",
       "      <th>text</th>\n",
       "      <th>year</th>\n",
       "      <th>month</th>\n",
       "      <th>day</th>\n",
       "      <th>cleaned_text</th>\n",
       "    </tr>\n",
       "  </thead>\n",
       "  <tbody>\n",
       "    <tr>\n",
       "      <th>0</th>\n",
       "      <td>1846-07-07</td>\n",
       "      <td>CONFÉDÉRATION SUISSE NOUVELLES DES CANTONS. to...</td>\n",
       "      <td>1846</td>\n",
       "      <td>7</td>\n",
       "      <td>7</td>\n",
       "      <td>confédération suisse nouvelles cantons évoques...</td>\n",
       "    </tr>\n",
       "    <tr>\n",
       "      <th>1</th>\n",
       "      <td>1846-07-07</td>\n",
       "      <td>Une ordonnance royale, communiquée le 5 aux de...</td>\n",
       "      <td>1846</td>\n",
       "      <td>7</td>\n",
       "      <td>7</td>\n",
       "      <td>ordonnance royale communiquée 5 cham bres fran...</td>\n",
       "    </tr>\n",
       "    <tr>\n",
       "      <th>2</th>\n",
       "      <td>1846-07-07</td>\n",
       "      <td>UN PASTEUR in FEUILLETON DELA GAZETTE DE LAUSA...</td>\n",
       "      <td>1846</td>\n",
       "      <td>7</td>\n",
       "      <td>7</td>\n",
       "      <td>pasteur in feuilleton dela gazette lausanne se...</td>\n",
       "    </tr>\n",
       "    <tr>\n",
       "      <th>3</th>\n",
       "      <td>1846-07-07</td>\n",
       "      <td>AVI ^ Le conseil communal de Payerne ayant déc...</td>\n",
       "      <td>1846</td>\n",
       "      <td>7</td>\n",
       "      <td>7</td>\n",
       "      <td>avi conseil communal payerne décidé réunir pla...</td>\n",
       "    </tr>\n",
       "    <tr>\n",
       "      <th>4</th>\n",
       "      <td>1846-07-07</td>\n",
       "      <td>GAZETTE DE ET JOURNAL SUISSE.</td>\n",
       "      <td>1846</td>\n",
       "      <td>7</td>\n",
       "      <td>7</td>\n",
       "      <td>gazette journal suisse</td>\n",
       "    </tr>\n",
       "  </tbody>\n",
       "</table>\n",
       "</div>"
      ],
      "text/plain": [
       "         date                                               text  year  month  \\\n",
       "0  1846-07-07  CONFÉDÉRATION SUISSE NOUVELLES DES CANTONS. to...  1846      7   \n",
       "1  1846-07-07  Une ordonnance royale, communiquée le 5 aux de...  1846      7   \n",
       "2  1846-07-07  UN PASTEUR in FEUILLETON DELA GAZETTE DE LAUSA...  1846      7   \n",
       "3  1846-07-07  AVI ^ Le conseil communal de Payerne ayant déc...  1846      7   \n",
       "4  1846-07-07                     GAZETTE DE ET JOURNAL SUISSE.   1846      7   \n",
       "\n",
       "   day                                       cleaned_text  \n",
       "0    7  confédération suisse nouvelles cantons évoques...  \n",
       "1    7  ordonnance royale communiquée 5 cham bres fran...  \n",
       "2    7  pasteur in feuilleton dela gazette lausanne se...  \n",
       "3    7  avi conseil communal payerne décidé réunir pla...  \n",
       "4    7                             gazette journal suisse  "
      ]
     },
     "execution_count": 17,
     "metadata": {},
     "output_type": "execute_result"
    }
   ],
   "source": [
    "data.head() # visualisez les donnees apres pre-traitement"
   ]
  },
  {
   "cell_type": "code",
   "execution_count": 18,
   "metadata": {},
   "outputs": [
    {
     "name": "stdout",
     "output_type": "stream",
     "text": [
      "Avant: GAZETTE DE ET JOURNAL SUISSE. \n"
     ]
    }
   ],
   "source": [
    "print('Avant:', data['text'][4])"
   ]
  },
  {
   "cell_type": "code",
   "execution_count": 19,
   "metadata": {},
   "outputs": [
    {
     "name": "stdout",
     "output_type": "stream",
     "text": [
      "Après: gazette journal suisse\n"
     ]
    }
   ],
   "source": [
    "print('Après:', data['cleaned_text'][4])"
   ]
  },
  {
   "cell_type": "code",
   "execution_count": 20,
   "metadata": {},
   "outputs": [
    {
     "data": {
      "text/plain": [
       "363480"
      ]
     },
     "execution_count": 20,
     "metadata": {},
     "output_type": "execute_result"
    }
   ],
   "source": [
    "data.size"
   ]
  },
  {
   "cell_type": "markdown",
   "metadata": {},
   "source": [
    "Une fois que le prétraitement peut supprimer de nombreux mots, il est possible que les documents restent vides. Nous allons vérifier cela."
   ]
  },
  {
   "cell_type": "code",
   "execution_count": 21,
   "metadata": {},
   "outputs": [
    {
     "data": {
      "text/plain": [
       "25702"
      ]
     },
     "execution_count": 21,
     "metadata": {},
     "output_type": "execute_result"
    }
   ],
   "source": [
    "data['cleaned_text'].isnull().sum()"
   ]
  },
  {
   "cell_type": "markdown",
   "metadata": {},
   "source": [
    "Il y a des documents sans mots restants, nous les rejetons donc."
   ]
  },
  {
   "cell_type": "code",
   "execution_count": 22,
   "metadata": {},
   "outputs": [],
   "source": [
    "data.dropna(subset=['cleaned_text'], inplace=True)"
   ]
  },
  {
   "cell_type": "markdown",
   "metadata": {},
   "source": [
    "Vérifiez à nouveau."
   ]
  },
  {
   "cell_type": "code",
   "execution_count": 23,
   "metadata": {},
   "outputs": [
    {
     "data": {
      "text/plain": [
       "0"
      ]
     },
     "execution_count": 23,
     "metadata": {},
     "output_type": "execute_result"
    }
   ],
   "source": [
    "data['cleaned_text'].isnull().sum()"
   ]
  },
  {
   "cell_type": "code",
   "execution_count": 24,
   "metadata": {},
   "outputs": [
    {
     "data": {
      "text/plain": [
       "209268"
      ]
     },
     "execution_count": 24,
     "metadata": {},
     "output_type": "execute_result"
    }
   ],
   "source": [
    "data.size"
   ]
  },
  {
   "cell_type": "code",
   "execution_count": null,
   "metadata": {},
   "outputs": [],
   "source": [
    "!pip install nltk\n",
    "!python -m nltk.downloader stopwords\n",
    "!python -m nltk.downloader punkt"
   ]
  },
  {
   "cell_type": "code",
   "execution_count": 27,
   "metadata": {},
   "outputs": [
    {
     "name": "stdout",
     "output_type": "stream",
     "text": [
      "['au', 'aux', 'avec', 'ce', 'ces', 'dans', 'de', 'des', 'du', 'elle', 'en', 'et', 'eux', 'il', 'ils', 'je', 'la', 'le', 'les', 'leur', 'lui', 'ma', 'mais', 'me', 'même', 'mes', 'moi', 'mon', 'ne', 'nos', 'notre', 'nous', 'on', 'ou', 'par', 'pas', 'pour', 'qu', 'que', 'qui', 'sa', 'se', 'ses', 'son', 'sur', 'ta', 'te', 'tes', 'toi', 'ton', 'tu', 'un', 'une', 'vos', 'votre', 'vous', 'c', 'd', 'j', 'l', 'à', 'm', 'n', 's', 't', 'y', 'été', 'étée', 'étées', 'étés', 'étant', 'étante', 'étants', 'étantes', 'suis', 'es', 'est', 'sommes', 'êtes', 'sont', 'serai', 'seras', 'sera', 'serons', 'serez', 'seront', 'serais', 'serait', 'serions', 'seriez', 'seraient', 'étais', 'était', 'étions', 'étiez', 'étaient', 'fus', 'fut', 'fûmes', 'fûtes', 'furent', 'sois', 'soit', 'soyons', 'soyez', 'soient', 'fusse', 'fusses', 'fût', 'fussions', 'fussiez', 'fussent', 'ayant', 'ayante', 'ayantes', 'ayants', 'eu', 'eue', 'eues', 'eus', 'ai', 'as', 'avons', 'avez', 'ont', 'aurai', 'auras', 'aura', 'aurons', 'aurez', 'auront', 'aurais', 'aurait', 'aurions', 'auriez', 'auraient', 'avais', 'avait', 'avions', 'aviez', 'avaient', 'eut', 'eûmes', 'eûtes', 'eurent', 'aie', 'aies', 'ait', 'ayons', 'ayez', 'aient', 'eusse', 'eusses', 'eût', 'eussions', 'eussiez', 'eussent']\n"
     ]
    }
   ],
   "source": [
    "from nltk.corpus import stopwords\n",
    "\n",
    "nltk_stopwords = stopwords.words('french')\n",
    "\n",
    "print(nltk_stopwords)"
   ]
  },
  {
   "cell_type": "code",
   "execution_count": 28,
   "metadata": {},
   "outputs": [
    {
     "name": "stderr",
     "output_type": "stream",
     "text": [
      "100%|████████████████████████████████████████████████████████████████████████████████████████████████████████████████████████████████████████████████████████████████████████████████████████████████████████████████████████████████████████████| 34878/34878 [01:02<00:00, 556.51it/s]\n"
     ]
    }
   ],
   "source": [
    "from nltk.tokenize import word_tokenize\n",
    "\n",
    "def preprocess_with_nltk(phrase):\n",
    "    \n",
    "    phrase = phrase.lower()\n",
    "    \n",
    "    tokens = [token.replace('\\n', '').strip() for token in word_tokenize(phrase) \n",
    "              if token.lower() not in nltk_stopwords + punctuation]\n",
    "    \n",
    "    tokens = [token for token in tokens if len(token) > 0]\n",
    "    \n",
    "    if len(tokens) > 0:\n",
    "        return ' '.join(tokens)\n",
    "    return None\n",
    "\n",
    "data['cleaned_text_nltk'] = data['text'].progress_apply(preprocess_with_nltk)"
   ]
  },
  {
   "cell_type": "code",
   "execution_count": 29,
   "metadata": {},
   "outputs": [],
   "source": [
    "data.dropna(subset=['cleaned_text_nltk'], inplace=True)"
   ]
  },
  {
   "cell_type": "markdown",
   "metadata": {},
   "source": [
    "Maintenant que nous savons **nettoyer les données**, nous pouvons aussi analyser le corpus avec des autres stratistiques, comme les occurences de chaque mot. Nous utilisons la classe [`nltk.FreqDist`](https://www.nltk.org/api/nltk.html?highlight=freqdist).\n",
    "\n",
    "Plus d'informations pour [`numpy hstack`](https://numpy.org/doc/stable/reference/generated/numpy.hstack.html) "
   ]
  },
  {
   "cell_type": "code",
   "execution_count": 31,
   "metadata": {},
   "outputs": [
    {
     "data": {
      "text/plain": [
       "array([1, 1, 1, 1, 1, 2, 2, 2, 2, 2])"
      ]
     },
     "execution_count": 31,
     "metadata": {},
     "output_type": "execute_result"
    }
   ],
   "source": [
    "import numpy as np\n",
    "\n",
    "list_a = [1, 1, 1, 1, 1]\n",
    "list_b = [2, 2, 2, 2, 2]\n",
    "\n",
    "np.hstack([list_a, list_b]) # Exemple de fonctionnement de cette méthode avec des listes"
   ]
  },
  {
   "cell_type": "code",
   "execution_count": null,
   "metadata": {},
   "outputs": [],
   "source": []
  },
  {
   "cell_type": "code",
   "execution_count": 32,
   "metadata": {},
   "outputs": [],
   "source": [
    "import nltk\n",
    "import numpy as np\n",
    "\n",
    "freq = nltk.FreqDist(np.hstack([text.split(' ') if len(str(text)) > 0 else \" \" for text in data['cleaned_text_nltk']]))"
   ]
  },
  {
   "cell_type": "code",
   "execution_count": 33,
   "metadata": {},
   "outputs": [
    {
     "name": "stdout",
     "output_type": "stream",
     "text": [
      "climat : 575\n",
      "réchauffement : 57\n",
      "réchauffe : 5\n",
      "climatique : 15\n",
      "météo : 165\n"
     ]
    }
   ],
   "source": [
    "for word in ['climat', 'réchauffement', 'réchauffe', 'climatique', 'météo']:\n",
    "    print(word, ':', freq[word])"
   ]
  },
  {
   "cell_type": "markdown",
   "metadata": {},
   "source": [
    "On peut grâce à `FreqDist` récupérer les 25 termes les plus courants du corpus."
   ]
  },
  {
   "cell_type": "code",
   "execution_count": 34,
   "metadata": {},
   "outputs": [
    {
     "name": "stdout",
     "output_type": "stream",
     "text": [
      "[('a', 98566), ('«', 63837), ('»', 63479), ('5', 46063), ('1', 35909), ('plus', 34077), ('p', 33770), ('0', 30998), ('3', 29083), ('4', 27584), ('2', 26754), ('suisse', 20896), ('e', 20130), ('cette', 20103), ('6', 19629), ('7', 17869), (\"d'une\", 17591), (\"d'un\", 17574), ('m.', 17275), ('8', 16519), ('i', 16510), ('deux', 16079), ('bp', 15789), ('ans', 15624), ('—', 15606)]\n"
     ]
    }
   ],
   "source": [
    "print(freq.most_common(25))"
   ]
  },
  {
   "cell_type": "code",
   "execution_count": 35,
   "metadata": {},
   "outputs": [
    {
     "data": {
      "image/png": "[encoded data removed]",
      "text/plain": [
       "<Figure size 640x480 with 1 Axes>"
      ]
     },
     "metadata": {},
     "output_type": "display_data"
    }
   ],
   "source": [
    "_ = freq.plot(50, cumulative=False)"
   ]
  },
  {
   "cell_type": "markdown",
   "metadata": {},
   "source": [
    "### 2.2.2  Lemmatisation\n",
    "\n",
    "Le processus de « [**lemmatisation**](https://fr.wikipedia.org/wiki/Lemmatisation) » consiste à représenter les mots (ou [lemmes](https://fr.wikipedia.org/wiki/Lemme_(linguistique)) en linguistique) sous leur forme canonique. Par exemple pour un verbe, ce sera son infinitif. Pour un nom, son masculin singulier. On ne **conserve que le sens des mots** utilisés dans le corpus. \n"
   ]
  },
  {
   "cell_type": "code",
   "execution_count": 37,
   "metadata": {},
   "outputs": [
    {
     "name": "stdout",
     "output_type": "stream",
     "text": [
      "Word: Malgré \t Lemma: malgré\n",
      "Word: les \t Lemma: le\n",
      "Word: circonstances \t Lemma: circonstance\n",
      "Word: , \t Lemma: ,\n",
      "Word: les \t Lemma: le\n",
      "Word: citoyens \t Lemma: citoyen\n",
      "Word: étaient \t Lemma: être\n",
      "Word: déterminés \t Lemma: déterminer\n",
      "Word: à \t Lemma: à\n",
      "Word: défendre \t Lemma: défendre\n",
      "Word: leurs \t Lemma: leur\n",
      "Word: convictions \t Lemma: conviction\n",
      "Word: jusqu' \t Lemma: jusque\n",
      "Word: au \t Lemma: au\n",
      "Word: bout \t Lemma: bout\n",
      "Word: . \t Lemma: .\n"
     ]
    }
   ],
   "source": [
    "doc = nlp(\"Malgré les circonstances, les citoyens étaient déterminés à défendre leurs convictions jusqu'au bout.\")\n",
    "\n",
    "for token in doc:\n",
    "    print('Word:', token.text, '\\t', 'Lemma:', token.lemma_) # Comment obtenir le lemme d'un mot"
   ]
  },
  {
   "cell_type": "markdown",
   "metadata": {},
   "source": [
    "**<span style=\"color:red\">To do</span>**:\n",
    "\n",
    "> * Ecrivez une méthode de prétraitement qui effectue également la lemmatisation. Utilisez [```spaCy```](https://spacy.io/usage/linguistic-features#lemmatization/) pour la tokenisation, et supprimez les mots vides et punctuation (`spacy_stopwords + punctuation`), et tous les autres **tokens** qui, selon vous, nuiront à la précision des algorithmes d'apprentissage automatique (nombres ? ponctuation ? Etc.)\n"
   ]
  },
  {
   "cell_type": "code",
   "execution_count": null,
   "metadata": {},
   "outputs": [],
   "source": [
    "def preprocess_with_lemmatisation(phrase):\n",
    "    \n",
    "    phrase = phrase.lower() # minuscule\n",
    "    \n",
    "    \n",
    "    tokens = []\n",
    "    \n",
    "    tokens = [token.lemma_.replace('\\n', '').strip() for token in nlp(phrase) \n",
    "             if token.text.lower() not in spacy_stopwords + punctuation]\n",
    "    \n",
    "    tokens = [token for token in tokens if len(token) > 0]\n",
    "    \n",
    "    if len(tokens) > 0:\n",
    "        return ' '.join(tokens)\n",
    "    return None\n",
    "\n",
    "data['cleaned_text_with_lemmatisation'] = data['text'].progress_apply(preprocess_with_lemmatisation)"
   ]
  },
  {
   "cell_type": "code",
   "execution_count": null,
   "metadata": {
    "collapsed": true
   },
   "outputs": [],
   "source": [
    "data.head()"
   ]
  },
  {
   "cell_type": "code",
   "execution_count": null,
   "metadata": {
    "collapsed": true
   },
   "outputs": [],
   "source": [
    "print(data['cleaned_text'][0])"
   ]
  },
  {
   "cell_type": "code",
   "execution_count": null,
   "metadata": {
    "collapsed": true
   },
   "outputs": [],
   "source": [
    "print(data['cleaned_text_with_lemmatisation'][0])"
   ]
  },
  {
   "cell_type": "markdown",
   "metadata": {},
   "source": [
    "\n",
    "### 2.2.3 Racinisation\n",
    "\n",
    "Un autre processus, la [**racinisation**](https://fr.wikipedia.org/wiki/Racinisation) (ou *stemming* en anglais) a une approche similaire. Cela consiste à ne conserver que la racine des mots étudiés : on supprime suffixes, préfixes et autres afin de ne conserver que la racine. "
   ]
  },
  {
   "cell_type": "code",
   "execution_count": 38,
   "metadata": {
    "collapsed": true
   },
   "outputs": [],
   "source": [
    "from nltk.stem.snowball import EnglishStemmer\n",
    "stemmer = EnglishStemmer()"
   ]
  },
  {
   "cell_type": "markdown",
   "metadata": {},
   "source": [
    "La **racinisation** va tronquer les mots, par exemple comme ci-dessous :"
   ]
  },
  {
   "cell_type": "code",
   "execution_count": null,
   "metadata": {},
   "outputs": [],
   "source": [
    "doc = nlp(\"Malgré les circonstances, les citoyens étaient déterminés à défendre leurs convictions jusqu'au bout.\")\n",
    "for token in doc:\n",
    "    print('Word:', token.text, '\\t', 'Lemma:', stemmer.stem(token.text))"
   ]
  },
  {
   "cell_type": "code",
   "execution_count": 40,
   "metadata": {
    "collapsed": true
   },
   "outputs": [],
   "source": [
    "def preprocess_with_stemming(phrase):\n",
    "    \n",
    "    phrase = phrase.lower()\n",
    "    \n",
    "    tokens = [stemmer.stem(token.text) for token in nlp(phrase) \n",
    "             if token.text.lower() not in spacy_stopwords + punctuation]\n",
    "    \n",
    "    tokens = [token for token in tokens if len(token) > 0]\n",
    "    \n",
    "    if len(tokens) > 0:\n",
    "        return ' '.join(tokens)\n",
    "    return None\n",
    "\n",
    "\n",
    "data['cleaned_text_with_stemming'] = data['text'].progress_apply(preprocess_with_stemming)"
   ]
  },
  {
   "cell_type": "code",
   "execution_count": null,
   "metadata": {
    "collapsed": true
   },
   "outputs": [],
   "source": [
    "data.head()"
   ]
  },
  {
   "cell_type": "markdown",
   "metadata": {},
   "source": [
    "# 4. Representation des mots"
   ]
  },
  {
   "cell_type": "markdown",
   "metadata": {},
   "source": [
    "\n",
    "## 4.1 « *bag of words* » (sac de mots)\n",
    "\n",
    "L’**extraction d’information** est l’étape qui suit le **nettoyage** du corpus. Pour ce faire, il nous faut changer la représentation du texte pour qu’il puisse être utilisé par un modèle statistique, et pour pouvoir l’exploiter.\n",
    "\n",
    "Une représentation **bag-of-words** classique sera donc celle dans laquelle on représente chaque document par un vecteur de la taille du vocabulaire $|V|$. On utilisera la matrice composée de l’ensemble de ces $N$ documents qui forment le corpus comme entrée de nos algorithmes.\n",
    "\n",
    "Nous allons voir comment cela fonctionne et imprimer les mots les plus pertinents à l’aide de la classe [`CountVectorizer`](https://scikit-learn.org/stable/modules/generated/sklearn.feature_extraction.text.CountVectorizer.html) de `scikit-learn`.\n",
    "\n",
    "Ceci est juste un petit exemple avec les documents de 110 à 130 (problèmes de ressources mémoire).\n"
   ]
  },
  {
   "cell_type": "code",
   "execution_count": null,
   "metadata": {
    "collapsed": true
   },
   "outputs": [],
   "source": [
    "import numpy as np\n",
    "from sklearn.feature_extraction.text import CountVectorizer\n",
    "vectorizer = CountVectorizer()\n",
    "vectorizer.fit(np.hstack(data['cleaned_text'][110:130]))\n",
    "\n",
    "X = vectorizer.transform(np.hstack(data['cleaned_text'][110:130])) # \n",
    "\n",
    "weights = np.asarray(X.mean(axis=0)).ravel().tolist()\n",
    "weights_df = pd.DataFrame({'term': vectorizer.get_feature_names(), 'weight': weights})\n",
    "weights_df.sort_values(by='weight', ascending=False).head(20)"
   ]
  },
  {
   "cell_type": "markdown",
   "metadata": {},
   "source": [
    "## 4.1 « *TF-IDF* » (*Term-Frequency* − *Inverse Document Frequency*)\n",
    "\n",
    "Ce que nous désirons faire avec [**TF-IDF**](https://fr.wikipedia.org/wiki/TF-IDF) est de mettre en application ce qui est décrit précédemment. Nous voulons pondérer la fréquence d’apparition d’un lemme dans un document par rapport à son apparition dans l’ensemble des documents du corpus. La fréquence de chaque lemme est donc pondérée à l’ensemble du corpus.\n",
    "\n",
    "En l’occurence, la métrique **TF-IDF** (*Term-Frequency* − *Inverse Document Frequency*) utilise comme indicateur de similarité l’*inverse document frequency* qui est l’inverse de la proportion de document qui contient le terme, à l'échelle logarithmique.\n",
    "\n",
    "Nous calculons donc le poids **TF-IDF** final attribué au n-gramme :\n",
    "\n",
    "$tfidf_{i,j} = tf_{i,j} × idf_{i}$\n",
    "\n",
    "Pour connaître les termes qui représentent le plus un document, nous allons utiliser la [fonction **TF-IDF**](https://scikit-learn.org/stable/modules/generated/sklearn.feature_extraction.text.TfidfVectorizer.html) de `scikit-learn`.\n",
    "\n",
    "\n",
    "**Note :** nous traitons des *n-grames*, donc utilisez le paramètre [`ngram_range`](https://scikit-learn.org/stable/modules/generated/sklearn.feature_extraction.text.TfidfVectorizer.html) de la classe [`TfidfVectorizer`](https://scikit-learn.org/stable/modules/generated/sklearn.feature_extraction.text.TfidfVectorizer.html) lors de son instanciation.\n",
    "\n",
    "**Note :** pour transformer vos vecteurs résultats (obtenus par appel à `fit_transform`) en des données utilisables dans un `DataFrame`, vous devez utiliser `vectors.toarray()`. À la création de votre `DataFrame`, nommez les colonnes avec le nom des lemmes utilisés (ce sont les *features* de l’opération, vous pouvez les récupérer avec `get_feature_names()`).\n",
    "\n",
    "**Note :** comment on renverse une matrice ? En demandant sa transposée. Pour la transposée d’un `pd.DataFrame`, on accède simplement l’attribut `T` du `pd.DataFrame`."
   ]
  },
  {
   "cell_type": "code",
   "execution_count": null,
   "metadata": {
    "collapsed": true
   },
   "outputs": [],
   "source": [
    "import numpy as np\n",
    "from sklearn.feature_extraction.text import TfidfVectorizer\n",
    "\n",
    "vectorizer = TfidfVectorizer(ngram_range=(1,10))\n",
    "vectors = vectorizer.fit_transform(np.hstack(data['cleaned_text']))#[110:130]\n",
    "\n",
    "weights = np.asarray(vectors.mean(axis=0)).ravel().tolist()\n",
    "weights_df = pd.DataFrame({'term': vectorizer.get_feature_names(), 'weight': weights})\n",
    "weights_df.sort_values(by='weight', ascending=False).head(10)"
   ]
  },
  {
   "cell_type": "markdown",
   "metadata": {},
   "source": [
    "### 4. 2 Plongements de mots (Word Embeddings)\n",
    "\n",
    "La dernière répresentation des mots que nous analyserons est la répresentation **word embeddings**. \n",
    "Les **plongements de mots** (ou *word embedding*) est une technique d'apprentissage et de représentation de mots d’un texte. Elle consiste à représenter les mots sous forme de vecteurs de nombres réels qui ont la particularité d’être proches (dans leurs espaces vectoriels) si leurs contextes sont similaires.\n",
    "\n",
    "Ils peuvent être générés de plusieurs façons, comme les [réseaux de neuronnes](https://www.tensorflow.org/tutorials/text/word_embeddings) ou les matrices de [cooccurences](https://fr.wikipedia.org/wiki/Cooccurrence), des modèles probabilistes (TF-IDF vecteurs), etc.\n",
    "\n",
    "Cette nouvelle représentation a ceci de particulier que les mots apparaissant dans des contextes similaires possèdent des vecteurs correspondants qui sont relativement proches. Par exemple, on pourrait s'attendre à ce que les mots « chien » et « chat » soient représentés par des vecteurs relativement peu distants dans l'espace vectoriel où sont définis ces vecteurs. Cette technique est basée sur l'hypothèse qui veut que les mots apparaissant dans des contextes similaires ont des significations apparentées. \n",
    "\n",
    "<figure>\n",
    "    <center>\n",
    "    <img src=\"images/we.png\" width=\"300\" height=\"400\">\n",
    "    <figcaption>Source: <a href=\"https://unbabel.com/blog/fr/lia-vous-parle-mais-comprend-elle-ce-quelle-dit/\"> link</a></figcaption>\n",
    "    </center>\n",
    "</figure>\n",
    "\n",
    "Différents  plongements (embeddings) de mots qui ont été entrainées sur de grands ensembles de données et disponibles :\n",
    "\n",
    "*  [Collobert & Weston](http://www.jmlr.org/papers/volume12/collobert11a/collobert11a.pdf) https://ronan.collobert.com/senna/\n",
    "* [Word2Vec Google News](https://code.google.com/archive/p/word2vec/)\n",
    "* [GloVe](https://nlp.stanford.edu/projects/glove/)\n",
    "* [FastText](https://github.com/facebookresearch/fastText)\n",
    "\n",
    "\n",
    "Le word embedding d'un mot peut être récupérée en utilisant la bibliothèque **spaCy** (cette bibliothèque utilise le modèle [GloVe](https://nlp.stanford.edu/projects/glove/)).\n"
   ]
  },
  {
   "cell_type": "code",
   "execution_count": null,
   "metadata": {
    "collapsed": true
   },
   "outputs": [],
   "source": [
    "token = nlp(\"climat\")\n",
    "token, token.vector.shape, token.vector"
   ]
  },
  {
   "cell_type": "markdown",
   "metadata": {},
   "source": [
    "**spaCy** est capable de comparer deux mots et de faire une prédiction de leur similitude. La prédiction de la similarité est utile pour créer des systèmes de recommandation ou pour signaler les doublons. Par exemple, vous pouvez suggérer un contenu similaire à ce que l'utilisateur recherche actuellement ou étiqueter un ticket d'assistance comme doublon s'il est très similaire à un ticket déjà existant.\n",
    "\n",
    "Chaque **Doc**, **Span** et **Token** est livré avec une **.similarity()** méthode qui vous permet de le comparer avec un autre objet et de déterminer la similitude. Bien sûr, la similitude est toujours subjective - si «chien» et «chat» sont similaires dépend vraiment de la façon dont vous le regardez. Le modèle de similarité de **spaCy** suppose généralement une définition assez générale de la similitude.\n",
    "\n",
    "Généralement, ene fois que nous aurons des vecteurs du texte donné, pour calculer la similitude entre les vecteurs générés, des méthodes statistiques pour la similitude vectorielle peuvent être utilisées. Ces techniques sont la *similitude cosinus*, la *distance euclidienne*, la *distance de Jaccard*, la distance *word mover*. La *similitude cosinus* est la technique qui est largement utilisée pour la similitude de texte (**spaCy** utilise cette similitude).\n"
   ]
  },
  {
   "cell_type": "code",
   "execution_count": null,
   "metadata": {
    "collapsed": true
   },
   "outputs": [],
   "source": [
    "token = nlp('climat')\n",
    "for word in ['climat', 'réchauffement', 'réchauffe', 'climatique', 'météo']:\n",
    "    word = nlp(word)\n",
    "    print('climat', '~', word, ':', token.similarity(word))"
   ]
  },
  {
   "cell_type": "markdown",
   "metadata": {},
   "source": [
    "Pour voir l'exemple de la figure présentée précédemment, nous calculons la distance entre tous les mots * spaCy * pour trouver les mots les plus similaires pour le calcul: **king − man + woman ≈ queen**"
   ]
  },
  {
   "cell_type": "code",
   "execution_count": null,
   "metadata": {
    "collapsed": true
   },
   "outputs": [],
   "source": [
    "from scipy import spatial\n",
    " \n",
    "cosine_similarity = lambda x, y: 1 - spatial.distance.cosine(x, y)\n",
    " \n",
    "man = nlp.vocab['man'].vector\n",
    "woman = nlp.vocab['woman'].vector\n",
    "queen = nlp.vocab['queen'].vector\n",
    "king = nlp.vocab['king'].vector\n",
    " \n",
    "# Nous devons maintenant trouver le vecteur le plus proche du vocabulaire du résultat de \"man\" - \"woman\" + \"queen\"\n",
    "maybe_king = man - woman + queen\n",
    "computed_similarities = []\n",
    " \n",
    "for word in nlp.vocab:\n",
    "    # Ignorer les mots sans vecteurs\n",
    "    if not word.has_vector:\n",
    "        continue\n",
    "\n",
    "    similarity = cosine_similarity(maybe_king, word.vector)\n",
    "    computed_similarities.append((word, similarity))\n",
    "\n",
    "computed_similarities = sorted(computed_similarities, key=lambda item: -item[1])\n",
    "print('man - woman + queen=', [w[0].text for w in computed_similarities[:5]])"
   ]
  },
  {
   "cell_type": "code",
   "execution_count": null,
   "metadata": {},
   "outputs": [],
   "source": []
  },
  {
   "cell_type": "code",
   "execution_count": null,
   "metadata": {},
   "outputs": [],
   "source": []
  },
  {
   "cell_type": "code",
   "execution_count": null,
   "metadata": {},
   "outputs": [],
   "source": []
  },
  {
   "cell_type": "code",
   "execution_count": null,
   "metadata": {},
   "outputs": [],
   "source": []
  },
  {
   "cell_type": "code",
   "execution_count": null,
   "metadata": {},
   "outputs": [],
   "source": []
  },
  {
   "cell_type": "code",
   "execution_count": null,
   "metadata": {},
   "outputs": [],
   "source": []
  }
 ],
 "metadata": {
  "kernelspec": {
   "display_name": "Python 3 (ipykernel)",
   "language": "python",
   "name": "python3"
  },
  "language_info": {
   "codemirror_mode": {
    "name": "ipython",
    "version": 3
   },
   "file_extension": ".py",
   "mimetype": "text/x-python",
   "name": "python",
   "nbconvert_exporter": "python",
   "pygments_lexer": "ipython3",
   "version": "3.9.6"
  }
 },
 "nbformat": 4,
 "nbformat_minor": 2
}
